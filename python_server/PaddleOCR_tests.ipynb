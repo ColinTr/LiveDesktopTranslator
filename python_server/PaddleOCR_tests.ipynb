{
 "cells": [
  {
   "metadata": {
    "ExecuteTime": {
     "end_time": "2024-11-02T16:55:57.497347Z",
     "start_time": "2024-11-02T16:55:57.494847Z"
    }
   },
   "cell_type": "code",
   "source": "import os",
   "id": "b728ce4193879382",
   "outputs": [],
   "execution_count": 3
  },
  {
   "metadata": {
    "collapsed": true,
    "ExecuteTime": {
     "end_time": "2024-11-02T16:54:21.543485Z",
     "start_time": "2024-11-02T16:54:21.540985Z"
    }
   },
   "cell_type": "code",
   "outputs": [],
   "execution_count": null,
   "source": [
    "# Find your command to install the paddlepaddle-gpu library on:\n",
    "#    https://www.paddlepaddle.org.cn/en/install/quick?docurl=/documentation/docs/zh/install/conda/windows-conda_en.html\n",
    "# e.g. > conda install paddlepaddle-gpu==3.0.0b1 paddlepaddle-cuda=11.8 -c paddle -c nvidia"
   ],
   "id": "initial_id"
  },
  {
   "metadata": {
    "ExecuteTime": {
     "end_time": "2024-11-02T16:03:51.726681Z",
     "start_time": "2024-11-02T15:52:22.957554Z"
    }
   },
   "cell_type": "code",
   "source": [
    "!git clone https://github.com/PaddlePaddle/PaddleOCR.git\n",
    "# We also seem to need to manually install \"imgaug\""
   ],
   "id": "e051d3cd72ae4589",
   "outputs": [
    {
     "name": "stderr",
     "output_type": "stream",
     "text": [
      "Cloning into 'PaddleOCR'...\n",
      "Updating files:  40% (961/2401)\n",
      "Updating files:  41% (985/2401)\n",
      "Updating files:  42% (1009/2401)\n",
      "Updating files:  43% (1033/2401)\n",
      "Updating files:  44% (1057/2401)\n",
      "Updating files:  45% (1081/2401)\n",
      "Updating files:  46% (1105/2401)\n",
      "Updating files:  47% (1129/2401)\n",
      "Updating files:  48% (1153/2401)\n",
      "Updating files:  49% (1177/2401)\n",
      "Updating files:  50% (1201/2401)\n",
      "Updating files:  51% (1225/2401)\n",
      "Updating files:  52% (1249/2401)\n",
      "Updating files:  53% (1273/2401)\n",
      "Updating files:  54% (1297/2401)\n",
      "Updating files:  55% (1321/2401)\n",
      "Updating files:  56% (1345/2401)\n",
      "Updating files:  57% (1369/2401)\n",
      "Updating files:  58% (1393/2401)\n",
      "Updating files:  59% (1417/2401)\n",
      "Updating files:  60% (1441/2401)\n",
      "Updating files:  61% (1465/2401)\n",
      "Updating files:  62% (1489/2401)\n",
      "Updating files:  63% (1513/2401)\n",
      "Updating files:  64% (1537/2401)\n",
      "Updating files:  65% (1561/2401)\n",
      "Updating files:  66% (1585/2401)\n",
      "Updating files:  66% (1595/2401)\n",
      "Updating files:  67% (1609/2401)\n",
      "Updating files:  68% (1633/2401)\n",
      "Updating files:  69% (1657/2401)\n",
      "Updating files:  70% (1681/2401)\n",
      "Updating files:  71% (1705/2401)\n",
      "Updating files:  72% (1729/2401)\n",
      "Updating files:  73% (1753/2401)\n",
      "Updating files:  74% (1777/2401)\n",
      "Updating files:  75% (1801/2401)\n",
      "Updating files:  76% (1825/2401)\n",
      "Updating files:  77% (1849/2401)\n",
      "Updating files:  78% (1873/2401)\n",
      "Updating files:  79% (1897/2401)\n",
      "Updating files:  80% (1921/2401)\n",
      "Updating files:  81% (1945/2401)\n",
      "Updating files:  82% (1969/2401)\n",
      "Updating files:  83% (1993/2401)\n",
      "Updating files:  84% (2017/2401)\n",
      "Updating files:  85% (2041/2401)\n",
      "Updating files:  86% (2065/2401)\n",
      "Updating files:  87% (2089/2401)\n",
      "Updating files:  88% (2113/2401)\n",
      "Updating files:  89% (2137/2401)\n",
      "Updating files:  90% (2161/2401)\n",
      "Updating files:  91% (2185/2401)\n",
      "Updating files:  92% (2209/2401)\n",
      "Updating files:  93% (2233/2401)\n",
      "Updating files:  94% (2257/2401)\n",
      "Updating files:  95% (2281/2401)\n",
      "Updating files:  96% (2305/2401)\n",
      "Updating files:  97% (2329/2401)\n",
      "Updating files:  98% (2353/2401)\n",
      "Updating files:  99% (2377/2401)\n",
      "Updating files: 100% (2401/2401)\n",
      "Updating files: 100% (2401/2401), done.\n"
     ]
    }
   ],
   "execution_count": 1
  },
  {
   "metadata": {
    "ExecuteTime": {
     "end_time": "2024-11-02T17:14:28.942017Z",
     "start_time": "2024-11-02T17:14:28.647965Z"
    }
   },
   "cell_type": "code",
   "source": [
    "from PaddleOCR.paddleocr import PaddleOCR, draw_ocr\n",
    "\n",
    "ocr = PaddleOCR() # need to run only once to download and load model into memory\n",
    "img_path = os.path.join('PaddleOCR', 'doc', 'imgs_en', 'img_12.jpg')\n",
    "result = ocr.ocr(img_path,rec=False)\n",
    "for idx in range(len(result)):\n",
    "    res = result[idx]\n",
    "    for line in res:\n",
    "        print(line)"
   ],
   "id": "4e6088aacb771458",
   "outputs": [
    {
     "ename": "ModuleNotFoundError",
     "evalue": "No module named 'imgaug'",
     "output_type": "error",
     "traceback": [
      "\u001B[1;31m---------------------------------------------------------------------------\u001B[0m",
      "\u001B[1;31mModuleNotFoundError\u001B[0m                       Traceback (most recent call last)",
      "Cell \u001B[1;32mIn[6], line 1\u001B[0m\n\u001B[1;32m----> 1\u001B[0m \u001B[38;5;28;01mfrom\u001B[39;00m \u001B[38;5;21;01mPaddleOCR\u001B[39;00m\u001B[38;5;21;01m.\u001B[39;00m\u001B[38;5;21;01mpaddleocr\u001B[39;00m \u001B[38;5;28;01mimport\u001B[39;00m PaddleOCR, draw_ocr\n\u001B[0;32m      3\u001B[0m ocr \u001B[38;5;241m=\u001B[39m PaddleOCR() \u001B[38;5;66;03m# need to run only once to download and load model into memory\u001B[39;00m\n\u001B[0;32m      4\u001B[0m img_path \u001B[38;5;241m=\u001B[39m os\u001B[38;5;241m.\u001B[39mpath\u001B[38;5;241m.\u001B[39mjoin(\u001B[38;5;124m'\u001B[39m\u001B[38;5;124mPaddleOCR\u001B[39m\u001B[38;5;124m'\u001B[39m, \u001B[38;5;124m'\u001B[39m\u001B[38;5;124mdoc\u001B[39m\u001B[38;5;124m'\u001B[39m, \u001B[38;5;124m'\u001B[39m\u001B[38;5;124mimgs_en\u001B[39m\u001B[38;5;124m'\u001B[39m, \u001B[38;5;124m'\u001B[39m\u001B[38;5;124mimg_12.jpg\u001B[39m\u001B[38;5;124m'\u001B[39m)\n",
      "File \u001B[1;32m~\\Desktop\\live_desktop_translator\\python_server\\PaddleOCR\\__init__.py:14\u001B[0m\n\u001B[0;32m      1\u001B[0m \u001B[38;5;66;03m# Copyright (c) 2020 PaddlePaddle Authors. All Rights Reserved.\u001B[39;00m\n\u001B[0;32m      2\u001B[0m \u001B[38;5;66;03m#\u001B[39;00m\n\u001B[0;32m      3\u001B[0m \u001B[38;5;66;03m# Licensed under the Apache License, Version 2.0 (the \"License\");\u001B[39;00m\n\u001B[1;32m   (...)\u001B[0m\n\u001B[0;32m     12\u001B[0m \u001B[38;5;66;03m# See the License for the specific language governing permissions and\u001B[39;00m\n\u001B[0;32m     13\u001B[0m \u001B[38;5;66;03m# limitations under the License.\u001B[39;00m\n\u001B[1;32m---> 14\u001B[0m \u001B[38;5;28;01mfrom\u001B[39;00m \u001B[38;5;21;01m.\u001B[39;00m\u001B[38;5;21;01mpaddleocr\u001B[39;00m \u001B[38;5;28;01mimport\u001B[39;00m (\n\u001B[0;32m     15\u001B[0m     PaddleOCR,\n\u001B[0;32m     16\u001B[0m     PPStructure,\n\u001B[0;32m     17\u001B[0m     draw_ocr,\n\u001B[0;32m     18\u001B[0m     draw_structure_result,\n\u001B[0;32m     19\u001B[0m     save_structure_res,\n\u001B[0;32m     20\u001B[0m     download_with_progressbar,\n\u001B[0;32m     21\u001B[0m     sorted_layout_boxes,\n\u001B[0;32m     22\u001B[0m     convert_info_docx,\n\u001B[0;32m     23\u001B[0m     to_excel,\n\u001B[0;32m     24\u001B[0m )\n\u001B[0;32m     25\u001B[0m \u001B[38;5;28;01mimport\u001B[39;00m \u001B[38;5;21;01mimportlib\u001B[39;00m\u001B[38;5;21;01m.\u001B[39;00m\u001B[38;5;21;01mmetadata\u001B[39;00m \u001B[38;5;28;01mas\u001B[39;00m \u001B[38;5;21;01mimportlib_metadata\u001B[39;00m\n\u001B[0;32m     27\u001B[0m \u001B[38;5;28;01mtry\u001B[39;00m:\n",
      "File \u001B[1;32m~\\Desktop\\live_desktop_translator\\python_server\\PaddleOCR\\paddleocr.py:64\u001B[0m\n\u001B[0;32m     52\u001B[0m \u001B[38;5;28;01mfrom\u001B[39;00m \u001B[38;5;21;01mppocr\u001B[39;00m\u001B[38;5;21;01m.\u001B[39;00m\u001B[38;5;21;01mutils\u001B[39;00m\u001B[38;5;21;01m.\u001B[39;00m\u001B[38;5;21;01mutility\u001B[39;00m \u001B[38;5;28;01mimport\u001B[39;00m (\n\u001B[0;32m     53\u001B[0m     check_and_read,\n\u001B[0;32m     54\u001B[0m     get_image_file_list,\n\u001B[0;32m     55\u001B[0m     alpha_to_color,\n\u001B[0;32m     56\u001B[0m     binarize_img,\n\u001B[0;32m     57\u001B[0m )\n\u001B[0;32m     58\u001B[0m \u001B[38;5;28;01mfrom\u001B[39;00m \u001B[38;5;21;01mppocr\u001B[39;00m\u001B[38;5;21;01m.\u001B[39;00m\u001B[38;5;21;01mutils\u001B[39;00m\u001B[38;5;21;01m.\u001B[39;00m\u001B[38;5;21;01mnetwork\u001B[39;00m \u001B[38;5;28;01mimport\u001B[39;00m (\n\u001B[0;32m     59\u001B[0m     maybe_download,\n\u001B[0;32m     60\u001B[0m     download_with_progressbar,\n\u001B[0;32m     61\u001B[0m     is_link,\n\u001B[0;32m     62\u001B[0m     confirm_model_dir_url,\n\u001B[0;32m     63\u001B[0m )\n\u001B[1;32m---> 64\u001B[0m \u001B[38;5;28;01mfrom\u001B[39;00m \u001B[38;5;21;01mtools\u001B[39;00m\u001B[38;5;21;01m.\u001B[39;00m\u001B[38;5;21;01minfer\u001B[39;00m \u001B[38;5;28;01mimport\u001B[39;00m predict_system\n\u001B[0;32m     65\u001B[0m \u001B[38;5;28;01mfrom\u001B[39;00m \u001B[38;5;21;01mtools\u001B[39;00m\u001B[38;5;21;01m.\u001B[39;00m\u001B[38;5;21;01minfer\u001B[39;00m\u001B[38;5;21;01m.\u001B[39;00m\u001B[38;5;21;01mutility\u001B[39;00m \u001B[38;5;28;01mimport\u001B[39;00m draw_ocr, str2bool, check_gpu\n\u001B[0;32m     66\u001B[0m \u001B[38;5;28;01mfrom\u001B[39;00m \u001B[38;5;21;01mppstructure\u001B[39;00m\u001B[38;5;21;01m.\u001B[39;00m\u001B[38;5;21;01mutility\u001B[39;00m \u001B[38;5;28;01mimport\u001B[39;00m init_args, draw_structure_result\n",
      "File \u001B[1;32m~\\Desktop\\live_desktop_translator\\python_server\\PaddleOCR\\tools\\infer\\predict_system.py:33\u001B[0m\n\u001B[0;32m     31\u001B[0m \u001B[38;5;28;01mimport\u001B[39;00m \u001B[38;5;21;01mtools\u001B[39;00m\u001B[38;5;21;01m.\u001B[39;00m\u001B[38;5;21;01minfer\u001B[39;00m\u001B[38;5;21;01m.\u001B[39;00m\u001B[38;5;21;01mutility\u001B[39;00m \u001B[38;5;28;01mas\u001B[39;00m \u001B[38;5;21;01mutility\u001B[39;00m\n\u001B[0;32m     32\u001B[0m \u001B[38;5;28;01mimport\u001B[39;00m \u001B[38;5;21;01mtools\u001B[39;00m\u001B[38;5;21;01m.\u001B[39;00m\u001B[38;5;21;01minfer\u001B[39;00m\u001B[38;5;21;01m.\u001B[39;00m\u001B[38;5;21;01mpredict_rec\u001B[39;00m \u001B[38;5;28;01mas\u001B[39;00m \u001B[38;5;21;01mpredict_rec\u001B[39;00m\n\u001B[1;32m---> 33\u001B[0m \u001B[38;5;28;01mimport\u001B[39;00m \u001B[38;5;21;01mtools\u001B[39;00m\u001B[38;5;21;01m.\u001B[39;00m\u001B[38;5;21;01minfer\u001B[39;00m\u001B[38;5;21;01m.\u001B[39;00m\u001B[38;5;21;01mpredict_det\u001B[39;00m \u001B[38;5;28;01mas\u001B[39;00m \u001B[38;5;21;01mpredict_det\u001B[39;00m\n\u001B[0;32m     34\u001B[0m \u001B[38;5;28;01mimport\u001B[39;00m \u001B[38;5;21;01mtools\u001B[39;00m\u001B[38;5;21;01m.\u001B[39;00m\u001B[38;5;21;01minfer\u001B[39;00m\u001B[38;5;21;01m.\u001B[39;00m\u001B[38;5;21;01mpredict_cls\u001B[39;00m \u001B[38;5;28;01mas\u001B[39;00m \u001B[38;5;21;01mpredict_cls\u001B[39;00m\n\u001B[0;32m     35\u001B[0m \u001B[38;5;28;01mfrom\u001B[39;00m \u001B[38;5;21;01mppocr\u001B[39;00m\u001B[38;5;21;01m.\u001B[39;00m\u001B[38;5;21;01mutils\u001B[39;00m\u001B[38;5;21;01m.\u001B[39;00m\u001B[38;5;21;01mutility\u001B[39;00m \u001B[38;5;28;01mimport\u001B[39;00m get_image_file_list, check_and_read\n",
      "File \u001B[1;32m~\\Desktop\\live_desktop_translator\\python_server\\PaddleOCR\\tools\\infer\\predict_det.py:31\u001B[0m\n\u001B[0;32m     29\u001B[0m \u001B[38;5;28;01mfrom\u001B[39;00m \u001B[38;5;21;01mppocr\u001B[39;00m\u001B[38;5;21;01m.\u001B[39;00m\u001B[38;5;21;01mutils\u001B[39;00m\u001B[38;5;21;01m.\u001B[39;00m\u001B[38;5;21;01mlogging\u001B[39;00m \u001B[38;5;28;01mimport\u001B[39;00m get_logger\n\u001B[0;32m     30\u001B[0m \u001B[38;5;28;01mfrom\u001B[39;00m \u001B[38;5;21;01mppocr\u001B[39;00m\u001B[38;5;21;01m.\u001B[39;00m\u001B[38;5;21;01mutils\u001B[39;00m\u001B[38;5;21;01m.\u001B[39;00m\u001B[38;5;21;01mutility\u001B[39;00m \u001B[38;5;28;01mimport\u001B[39;00m get_image_file_list, check_and_read\n\u001B[1;32m---> 31\u001B[0m \u001B[38;5;28;01mfrom\u001B[39;00m \u001B[38;5;21;01mppocr\u001B[39;00m\u001B[38;5;21;01m.\u001B[39;00m\u001B[38;5;21;01mdata\u001B[39;00m \u001B[38;5;28;01mimport\u001B[39;00m create_operators, transform\n\u001B[0;32m     32\u001B[0m \u001B[38;5;28;01mfrom\u001B[39;00m \u001B[38;5;21;01mppocr\u001B[39;00m\u001B[38;5;21;01m.\u001B[39;00m\u001B[38;5;21;01mpostprocess\u001B[39;00m \u001B[38;5;28;01mimport\u001B[39;00m build_post_process\n\u001B[0;32m     33\u001B[0m \u001B[38;5;28;01mimport\u001B[39;00m \u001B[38;5;21;01mjson\u001B[39;00m\n",
      "File \u001B[1;32m~\\Desktop\\live_desktop_translator\\python_server\\PaddleOCR\\ppocr\\data\\__init__.py:35\u001B[0m\n\u001B[0;32m     32\u001B[0m \u001B[38;5;28;01mfrom\u001B[39;00m \u001B[38;5;21;01mpaddle\u001B[39;00m\u001B[38;5;21;01m.\u001B[39;00m\u001B[38;5;21;01mio\u001B[39;00m \u001B[38;5;28;01mimport\u001B[39;00m Dataset, DataLoader, BatchSampler, DistributedBatchSampler\n\u001B[0;32m     33\u001B[0m \u001B[38;5;28;01mimport\u001B[39;00m \u001B[38;5;21;01mpaddle\u001B[39;00m\u001B[38;5;21;01m.\u001B[39;00m\u001B[38;5;21;01mdistributed\u001B[39;00m \u001B[38;5;28;01mas\u001B[39;00m \u001B[38;5;21;01mdist\u001B[39;00m\n\u001B[1;32m---> 35\u001B[0m \u001B[38;5;28;01mfrom\u001B[39;00m \u001B[38;5;21;01mppocr\u001B[39;00m\u001B[38;5;21;01m.\u001B[39;00m\u001B[38;5;21;01mdata\u001B[39;00m\u001B[38;5;21;01m.\u001B[39;00m\u001B[38;5;21;01mimaug\u001B[39;00m \u001B[38;5;28;01mimport\u001B[39;00m transform, create_operators\n\u001B[0;32m     36\u001B[0m \u001B[38;5;28;01mfrom\u001B[39;00m \u001B[38;5;21;01mppocr\u001B[39;00m\u001B[38;5;21;01m.\u001B[39;00m\u001B[38;5;21;01mdata\u001B[39;00m\u001B[38;5;21;01m.\u001B[39;00m\u001B[38;5;21;01msimple_dataset\u001B[39;00m \u001B[38;5;28;01mimport\u001B[39;00m SimpleDataSet, MultiScaleDataSet\n\u001B[0;32m     37\u001B[0m \u001B[38;5;28;01mfrom\u001B[39;00m \u001B[38;5;21;01mppocr\u001B[39;00m\u001B[38;5;21;01m.\u001B[39;00m\u001B[38;5;21;01mdata\u001B[39;00m\u001B[38;5;21;01m.\u001B[39;00m\u001B[38;5;21;01mlmdb_dataset\u001B[39;00m \u001B[38;5;28;01mimport\u001B[39;00m LMDBDataSet, LMDBDataSetSR, LMDBDataSetTableMaster\n",
      "File \u001B[1;32m~\\Desktop\\live_desktop_translator\\python_server\\PaddleOCR\\ppocr\\data\\imaug\\__init__.py:19\u001B[0m\n\u001B[0;32m     16\u001B[0m \u001B[38;5;28;01mfrom\u001B[39;00m \u001B[38;5;21;01m__future__\u001B[39;00m \u001B[38;5;28;01mimport\u001B[39;00m print_function\n\u001B[0;32m     17\u001B[0m \u001B[38;5;28;01mfrom\u001B[39;00m \u001B[38;5;21;01m__future__\u001B[39;00m \u001B[38;5;28;01mimport\u001B[39;00m unicode_literals\n\u001B[1;32m---> 19\u001B[0m \u001B[38;5;28;01mfrom\u001B[39;00m \u001B[38;5;21;01m.\u001B[39;00m\u001B[38;5;21;01miaa_augment\u001B[39;00m \u001B[38;5;28;01mimport\u001B[39;00m IaaAugment\n\u001B[0;32m     20\u001B[0m \u001B[38;5;28;01mfrom\u001B[39;00m \u001B[38;5;21;01m.\u001B[39;00m\u001B[38;5;21;01mmake_border_map\u001B[39;00m \u001B[38;5;28;01mimport\u001B[39;00m MakeBorderMap\n\u001B[0;32m     21\u001B[0m \u001B[38;5;28;01mfrom\u001B[39;00m \u001B[38;5;21;01m.\u001B[39;00m\u001B[38;5;21;01mmake_shrink_map\u001B[39;00m \u001B[38;5;28;01mimport\u001B[39;00m MakeShrinkMap\n",
      "File \u001B[1;32m~\\Desktop\\live_desktop_translator\\python_server\\PaddleOCR\\ppocr\\data\\imaug\\iaa_augment.py:24\u001B[0m\n\u001B[0;32m     21\u001B[0m \u001B[38;5;28;01mfrom\u001B[39;00m \u001B[38;5;21;01m__future__\u001B[39;00m \u001B[38;5;28;01mimport\u001B[39;00m unicode_literals\n\u001B[0;32m     23\u001B[0m \u001B[38;5;28;01mimport\u001B[39;00m \u001B[38;5;21;01mnumpy\u001B[39;00m \u001B[38;5;28;01mas\u001B[39;00m \u001B[38;5;21;01mnp\u001B[39;00m\n\u001B[1;32m---> 24\u001B[0m \u001B[38;5;28;01mimport\u001B[39;00m \u001B[38;5;21;01mimgaug\u001B[39;00m\n\u001B[0;32m     25\u001B[0m \u001B[38;5;28;01mimport\u001B[39;00m \u001B[38;5;21;01mimgaug\u001B[39;00m\u001B[38;5;21;01m.\u001B[39;00m\u001B[38;5;21;01maugmenters\u001B[39;00m \u001B[38;5;28;01mas\u001B[39;00m \u001B[38;5;21;01miaa\u001B[39;00m\n\u001B[0;32m     28\u001B[0m \u001B[38;5;28;01mclass\u001B[39;00m \u001B[38;5;21;01mAugmenterBuilder\u001B[39;00m(\u001B[38;5;28mobject\u001B[39m):\n",
      "\u001B[1;31mModuleNotFoundError\u001B[0m: No module named 'imgaug'"
     ]
    }
   ],
   "execution_count": 6
  },
  {
   "metadata": {},
   "cell_type": "code",
   "outputs": [],
   "execution_count": null,
   "source": "",
   "id": "527ec5fb5d9c25fe"
  },
  {
   "metadata": {},
   "cell_type": "code",
   "outputs": [],
   "execution_count": null,
   "source": "",
   "id": "1c22bc8cf3a6599e"
  },
  {
   "metadata": {},
   "cell_type": "code",
   "outputs": [],
   "execution_count": null,
   "source": "",
   "id": "4cfd66e926766c2"
  },
  {
   "metadata": {},
   "cell_type": "code",
   "outputs": [],
   "execution_count": null,
   "source": "",
   "id": "34587ed7ac02531"
  },
  {
   "metadata": {},
   "cell_type": "code",
   "outputs": [],
   "execution_count": null,
   "source": "",
   "id": "d51a8e675145a2a5"
  },
  {
   "metadata": {},
   "cell_type": "code",
   "outputs": [],
   "execution_count": null,
   "source": "",
   "id": "fc085c8f62237f7e"
  },
  {
   "metadata": {},
   "cell_type": "code",
   "outputs": [],
   "execution_count": null,
   "source": "",
   "id": "938d58171b8d51c1"
  },
  {
   "metadata": {},
   "cell_type": "code",
   "outputs": [],
   "execution_count": null,
   "source": "",
   "id": "4dae78d111167b94"
  },
  {
   "metadata": {},
   "cell_type": "code",
   "outputs": [],
   "execution_count": null,
   "source": "",
   "id": "8e57ef7a108b9094"
  },
  {
   "metadata": {},
   "cell_type": "code",
   "outputs": [],
   "execution_count": null,
   "source": "",
   "id": "df549b5701408a6b"
  },
  {
   "metadata": {},
   "cell_type": "code",
   "outputs": [],
   "execution_count": null,
   "source": "",
   "id": "ee548be0f2e82e88"
  },
  {
   "metadata": {},
   "cell_type": "code",
   "outputs": [],
   "execution_count": null,
   "source": "",
   "id": "ddcea4b0ed7ef5aa"
  },
  {
   "metadata": {},
   "cell_type": "code",
   "outputs": [],
   "execution_count": null,
   "source": "",
   "id": "fe538e66c127fd35"
  },
  {
   "metadata": {},
   "cell_type": "code",
   "outputs": [],
   "execution_count": null,
   "source": "",
   "id": "2a7a629097eb5838"
  },
  {
   "metadata": {},
   "cell_type": "code",
   "outputs": [],
   "execution_count": null,
   "source": "",
   "id": "67ca3e4f678f3893"
  },
  {
   "metadata": {},
   "cell_type": "code",
   "outputs": [],
   "execution_count": null,
   "source": "",
   "id": "fb6d9da4e9ef1d3"
  },
  {
   "metadata": {},
   "cell_type": "code",
   "outputs": [],
   "execution_count": null,
   "source": "",
   "id": "dabb9e6c1da0d7d"
  },
  {
   "metadata": {},
   "cell_type": "code",
   "outputs": [],
   "execution_count": null,
   "source": "",
   "id": "f2012aacce7df091"
  },
  {
   "metadata": {},
   "cell_type": "code",
   "outputs": [],
   "execution_count": null,
   "source": "",
   "id": "fbf73eb8e1d3a586"
  },
  {
   "metadata": {},
   "cell_type": "code",
   "outputs": [],
   "execution_count": null,
   "source": "",
   "id": "a8ee8bb3dbb9da25"
  },
  {
   "metadata": {},
   "cell_type": "code",
   "outputs": [],
   "execution_count": null,
   "source": "",
   "id": "7731bfa30a6de726"
  },
  {
   "metadata": {},
   "cell_type": "code",
   "outputs": [],
   "execution_count": null,
   "source": "",
   "id": "aff67fae700b63a7"
  },
  {
   "metadata": {},
   "cell_type": "code",
   "outputs": [],
   "execution_count": null,
   "source": "",
   "id": "4a8f7fc5c3bb534d"
  },
  {
   "metadata": {},
   "cell_type": "code",
   "outputs": [],
   "execution_count": null,
   "source": "",
   "id": "7ffff1e3e3257553"
  },
  {
   "metadata": {},
   "cell_type": "code",
   "outputs": [],
   "execution_count": null,
   "source": "",
   "id": "d116ffba45ea089"
  },
  {
   "metadata": {},
   "cell_type": "code",
   "outputs": [],
   "execution_count": null,
   "source": "",
   "id": "d004a7b8145b84c"
  }
 ],
 "metadata": {
  "kernelspec": {
   "display_name": "Python 3",
   "language": "python",
   "name": "python3"
  },
  "language_info": {
   "codemirror_mode": {
    "name": "ipython",
    "version": 2
   },
   "file_extension": ".py",
   "mimetype": "text/x-python",
   "name": "python",
   "nbconvert_exporter": "python",
   "pygments_lexer": "ipython2",
   "version": "2.7.6"
  }
 },
 "nbformat": 4,
 "nbformat_minor": 5
}
