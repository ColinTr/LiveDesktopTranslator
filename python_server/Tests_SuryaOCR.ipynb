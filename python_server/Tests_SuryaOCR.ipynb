{
 "cells": [
  {
   "cell_type": "code",
   "id": "initial_id",
   "metadata": {
    "collapsed": true,
    "ExecuteTime": {
     "end_time": "2024-11-06T22:17:46.619755Z",
     "start_time": "2024-11-06T22:17:46.616255Z"
    }
   },
   "source": [
    "from PIL import Image, ImageDraw\n",
    "import os\n",
    "\n",
    "from surya.model.detection.model import load_model as load_det_model, load_processor as load_det_processor\n",
    "from surya.model.recognition.processor import load_processor as load_rec_processor\n",
    "from surya.model.recognition.model import load_model as load_rec_model\n",
    "from surya.model.detection.model import load_model, load_processor\n",
    "from surya.detection import batch_text_detection\n",
    "from surya.layout import batch_layout_detection\n",
    "from surya.settings import settings\n",
    "from surya.ocr import run_ocr"
   ],
   "outputs": [],
   "execution_count": 31
  },
  {
   "metadata": {},
   "cell_type": "markdown",
   "source": [
    "**Home page :** https://github.com/VikParuchuri/surya\n",
    "\n",
    "The model weights are hosted on HuggingFace:\n",
    "- Text detection : https://huggingface.co/vikp/surya_det3/tree/main (154 MB)\n",
    "- Text recognition (OCR) : https://huggingface.co/vikp/surya_rec2/tree/main (941 MB)\n",
    "- Layout analysis : https://huggingface.co/vikp/surya_layout3/tree/main (154 MB)\n",
    "- Reading order : https://huggingface.co/vikp/surya_order/tree/main (550 MB)\n",
    "- Table recognition : https://huggingface.co/vikp/surya_tablerec/tree/main (397 MB)\n",
    "\n",
    "Models are downloaded by HuggingFace in : C:/Users/Colin/.cache/huggingface/hub"
   ],
   "id": "4054da553ee49869"
  },
  {
   "metadata": {},
   "cell_type": "markdown",
   "source": "#### Text line detection",
   "id": "ee673205d44a7899"
  },
  {
   "metadata": {
    "ExecuteTime": {
     "end_time": "2024-11-06T22:23:55.416379Z",
     "start_time": "2024-11-06T22:23:55.413378Z"
    }
   },
   "cell_type": "code",
   "source": [
    "test_img_path = os.path.join('C://', 'Users', 'Colin', 'Downloads', 'Sans titre.png')\n",
    "test_img_path = os.path.join('C://', 'Users', 'Colin', 'Downloads', 'bo2.png')\n",
    "test_img_path = os.path.join('C://', 'Users', 'Colin', 'Downloads', 'bo1.png')\n",
    "test_img_path = os.path.join('C://', 'Users', 'Colin', 'Downloads', 'manhwa1.png')"
   ],
   "id": "cd06cb0977360c2c",
   "outputs": [],
   "execution_count": 57
  },
  {
   "metadata": {
    "ExecuteTime": {
     "end_time": "2024-11-06T22:04:40.344827Z",
     "start_time": "2024-11-06T21:36:33.860093Z"
    }
   },
   "cell_type": "code",
   "source": [
    "image = Image.open(test_img_path)\n",
    "langs = [\"en\"] # Replace with your languages - optional but recommended\n",
    "det_processor, det_model = load_det_processor(), load_det_model()\n",
    "rec_model, rec_processor = load_rec_model(), load_rec_processor()\n",
    "\n",
    "predictions = run_ocr([image], [langs], det_model, det_processor, rec_model, rec_processor)"
   ],
   "id": "b231f850f6cdb4cd",
   "outputs": [
    {
     "name": "stdout",
     "output_type": "stream",
     "text": [
      "Loaded detection model vikp/surya_det3 on device cuda with dtype torch.float16\n",
      "Loaded recognition model vikp/surya_rec2 on device cuda with dtype torch.float16\n"
     ]
    },
    {
     "name": "stderr",
     "output_type": "stream",
     "text": [
      "Detecting bboxes: 100%|██████████| 1/1 [00:00<00:00,  1.81it/s]\n",
      "Recognizing Text: 100%|██████████| 1/1 [00:05<00:00,  5.54s/it]\n"
     ]
    }
   ],
   "execution_count": 7
  },
  {
   "metadata": {},
   "cell_type": "markdown",
   "source": "#### Layout analysis",
   "id": "559cb1866b14e3d0"
  },
  {
   "metadata": {
    "ExecuteTime": {
     "end_time": "2024-11-06T22:24:17.825339Z",
     "start_time": "2024-11-06T22:24:00.789199Z"
    }
   },
   "cell_type": "code",
   "source": [
    "image = Image.open(test_img_path)\n",
    "model = load_model(checkpoint=settings.LAYOUT_MODEL_CHECKPOINT)\n",
    "processor = load_processor(checkpoint=settings.LAYOUT_MODEL_CHECKPOINT)\n",
    "det_model = load_model()\n",
    "det_processor = load_processor()\n",
    "\n",
    "# layout_predictions is a list of dicts, one per image\n",
    "line_predictions = batch_text_detection([image], det_model, det_processor)\n",
    "layout_predictions = batch_layout_detection([image], model, processor, line_predictions)\n",
    "# The polygon for the text line in (x1, y1), (x2, y2), (x3, y3), (x4, y4) format. The points are in clockwise order from the top left."
   ],
   "id": "55a9c41bb7a5a62b",
   "outputs": [
    {
     "name": "stdout",
     "output_type": "stream",
     "text": [
      "Loaded detection model vikp/surya_layout3 on device cuda with dtype torch.float16\n",
      "Loaded detection model vikp/surya_det3 on device cuda with dtype torch.float16\n"
     ]
    },
    {
     "name": "stderr",
     "output_type": "stream",
     "text": [
      "Detecting bboxes: 100%|██████████| 1/1 [00:04<00:00,  4.01s/it]\n",
      "Detecting bboxes: 100%|██████████| 1/1 [00:08<00:00,  8.93s/it]\n"
     ]
    }
   ],
   "execution_count": 58
  },
  {
   "metadata": {
    "ExecuteTime": {
     "end_time": "2024-11-06T22:24:17.836342Z",
     "start_time": "2024-11-06T22:24:17.832842Z"
    }
   },
   "cell_type": "code",
   "source": "layout_predictions[0].bboxes[0]",
   "id": "cac0a1bdc593697d",
   "outputs": [
    {
     "data": {
      "text/plain": [
       "LayoutBox(polygon=[[0, 1011], [799, 1011], [799, 2060], [0, 2060]], confidence=1.0, label='Figure', bbox=[0, 1011, 799, 2060])"
      ]
     },
     "execution_count": 59,
     "metadata": {},
     "output_type": "execute_result"
    }
   ],
   "execution_count": 59
  },
  {
   "metadata": {
    "ExecuteTime": {
     "end_time": "2024-11-06T22:30:58.635800Z",
     "start_time": "2024-11-06T22:30:58.633799Z"
    }
   },
   "cell_type": "code",
   "source": [
    "img_with_squares = image.copy()\n",
    "tmp = ImageDraw.Draw(img_with_squares)\n",
    "\n",
    "for bb in layout_predictions[0].bboxes:\n",
    "    tmp.rectangle(bb.polygon[0] + bb.polygon[2], outline =\"red\")\n",
    "    \n",
    "img_with_squares"
   ],
   "id": "5a0795a8e8c08830",
   "outputs": [],
   "execution_count": null
  },
  {
   "metadata": {},
   "cell_type": "code",
   "outputs": [],
   "execution_count": null,
   "source": "",
   "id": "ad4144800b0829b6"
  },
  {
   "metadata": {},
   "cell_type": "code",
   "outputs": [],
   "execution_count": null,
   "source": "",
   "id": "86811b908a27277f"
  },
  {
   "metadata": {},
   "cell_type": "code",
   "outputs": [],
   "execution_count": null,
   "source": "",
   "id": "c2457870585f8329"
  },
  {
   "metadata": {},
   "cell_type": "code",
   "outputs": [],
   "execution_count": null,
   "source": "",
   "id": "8b5e90cc0a50797d"
  },
  {
   "metadata": {},
   "cell_type": "code",
   "outputs": [],
   "execution_count": null,
   "source": "",
   "id": "c0abcc0590c91326"
  },
  {
   "metadata": {},
   "cell_type": "code",
   "outputs": [],
   "execution_count": null,
   "source": "",
   "id": "4e5f563b1ee3fee4"
  },
  {
   "metadata": {},
   "cell_type": "code",
   "outputs": [],
   "execution_count": null,
   "source": "",
   "id": "2548a56f11ebb051"
  },
  {
   "metadata": {},
   "cell_type": "code",
   "outputs": [],
   "execution_count": null,
   "source": "",
   "id": "db3de8b3a8db8bd2"
  },
  {
   "metadata": {},
   "cell_type": "code",
   "outputs": [],
   "execution_count": null,
   "source": "",
   "id": "9920f069e263b9ed"
  },
  {
   "metadata": {},
   "cell_type": "code",
   "outputs": [],
   "execution_count": null,
   "source": "",
   "id": "abcfbcaa9f90b47e"
  },
  {
   "metadata": {},
   "cell_type": "code",
   "outputs": [],
   "execution_count": null,
   "source": "",
   "id": "eee8c30b6fc8dcb"
  },
  {
   "metadata": {},
   "cell_type": "code",
   "outputs": [],
   "execution_count": null,
   "source": "",
   "id": "83c1ead56cbc1c56"
  }
 ],
 "metadata": {
  "kernelspec": {
   "display_name": "Python 3",
   "language": "python",
   "name": "python3"
  },
  "language_info": {
   "codemirror_mode": {
    "name": "ipython",
    "version": 2
   },
   "file_extension": ".py",
   "mimetype": "text/x-python",
   "name": "python",
   "nbconvert_exporter": "python",
   "pygments_lexer": "ipython2",
   "version": "2.7.6"
  }
 },
 "nbformat": 4,
 "nbformat_minor": 5
}
