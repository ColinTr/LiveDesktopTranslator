{
 "cells": [
  {
   "cell_type": "code",
   "id": "initial_id",
   "metadata": {
    "collapsed": true,
    "ExecuteTime": {
     "end_time": "2024-11-01T13:48:32.074609Z",
     "start_time": "2024-11-01T13:48:32.027601Z"
    }
   },
   "source": [
    "from scipy.ndimage import label, find_objects\n",
    "from PIL import Image, ImageDraw\n",
    "import numpy as np\n",
    "import mss\n",
    "import cv2"
   ],
   "outputs": [],
   "execution_count": 27
  },
  {
   "metadata": {
    "ExecuteTime": {
     "end_time": "2024-11-01T13:34:12.781799Z",
     "start_time": "2024-11-01T13:34:12.778799Z"
    }
   },
   "cell_type": "code",
   "source": [
    "monitor = {\n",
    "    \"top\": 0,\n",
    "    \"left\": 0,\n",
    "    \"width\": 2560,\n",
    "    \"height\": 1440,\n",
    "    \"mon\": 0,\n",
    "}"
   ],
   "id": "173d697696171c25",
   "outputs": [],
   "execution_count": 2
  },
  {
   "metadata": {
    "ExecuteTime": {
     "end_time": "2024-11-01T14:04:08.807849Z",
     "start_time": "2024-11-01T14:04:08.657903Z"
    }
   },
   "cell_type": "code",
   "source": [
    "with mss.mss() as sct:\n",
    "    screenshot1 = sct.grab(monitor)\n",
    "    mss.tools.to_png(screenshot1.rgb, screenshot1.size, output=\"test1.png\")\n",
    "    np_screenshot1 = np.flip(np.array(screenshot1, dtype=np.uint8)[:, :, :3], 2)"
   ],
   "id": "2dcf2a208078c6cd",
   "outputs": [],
   "execution_count": 63
  },
  {
   "metadata": {
    "ExecuteTime": {
     "end_time": "2024-11-01T14:04:13.031238Z",
     "start_time": "2024-11-01T14:04:12.761863Z"
    }
   },
   "cell_type": "code",
   "source": [
    "with mss.mss() as sct:\n",
    "    screenshot2 = sct.grab(monitor)\n",
    "    mss.tools.to_png(screenshot2.rgb, screenshot2.size, output=\"test2.png\")\n",
    "    np_screenshot2 = np.flip(np.array(screenshot2, dtype=np.uint8)[:, :, :3], 2)"
   ],
   "id": "71100f7aefdccb7b",
   "outputs": [],
   "execution_count": 64
  },
  {
   "metadata": {
    "ExecuteTime": {
     "end_time": "2024-11-01T14:04:15.295236Z",
     "start_time": "2024-11-01T14:04:15.192217Z"
    }
   },
   "cell_type": "code",
   "source": [
    "diff = np.equal(np_screenshot1, np_screenshot2).all(axis=2).astype(np.uint8)\n",
    "\n",
    "diff_image = diff.copy()\n",
    "diff_image[diff_image == 1] = 255\n",
    "diff_image = Image.fromarray(diff_image)\n",
    "diff_image.save(\"test_diff.png\",\"PNG\")"
   ],
   "id": "10c8c4e8f4012d7e",
   "outputs": [],
   "execution_count": 65
  },
  {
   "metadata": {},
   "cell_type": "code",
   "outputs": [],
   "execution_count": null,
   "source": "",
   "id": "42013741e3dcebe9"
  },
  {
   "metadata": {},
   "cell_type": "code",
   "outputs": [],
   "execution_count": null,
   "source": "",
   "id": "bf5d25cc6aadfb01"
  },
  {
   "metadata": {
    "ExecuteTime": {
     "end_time": "2024-11-01T14:06:43.195547Z",
     "start_time": "2024-11-01T14:06:43.017516Z"
    }
   },
   "cell_type": "code",
   "source": [
    "# Use floodfill to identify outer shape of objects\n",
    "imFlood = diff.copy()\n",
    "h, w = diff.shape[:2]\n",
    "mask = np.zeros((h+2, w+2), np.uint8)\n",
    "cv2.floodFill(imFlood, mask, (0,0), 0)\n",
    "cv2.imwrite('im_3_floodfill.png',imFlood)\n",
    "\n",
    "# Combine flood filled image with original objects\n",
    "imFlood[np.where(diff==0)]=255\n",
    "cv2.imwrite('im_4_mixed_floodfill.png',imFlood)\n",
    "\n",
    "# Invert output colors\n",
    "imFlood=~imFlood\n",
    "cv2.imwrite('im_5_inverted_floodfill.png',imFlood)\n",
    "\n",
    "source_img = Image.open(\"test_diff.png\").convert(\"RGB\")\n",
    "draw = ImageDraw.Draw(source_img)\n",
    "cnts, _ = cv2.findContours(imFlood, cv2.RETR_TREE, cv2.CHAIN_APPROX_NONE)\n",
    "for cnt in cnts:\n",
    "    top_x, top_y = cnt[:, :, 0].min(), cnt[:, :, 1].min()\n",
    "    bot_x, bot_y = cnt[:, :, 0].max(), cnt[:, :, 1].max()\n",
    "    \n",
    "    # One of the bounding boxes is going to be the whole image, we don't need it\n",
    "    # if not (top_x==0 and top_y==0 and bot_x==diff.shape[1]-1 and bot_y==diff.shape[0]-1):\n",
    "    draw.rectangle(((top_x, top_y), (bot_x, bot_y)), outline =\"red\")\n",
    "\n",
    "source_img.save(\"test_diff_with_boxes.png\",\"PNG\")"
   ],
   "id": "d86156f91aa70a88",
   "outputs": [],
   "execution_count": 72
  },
  {
   "metadata": {},
   "cell_type": "code",
   "outputs": [],
   "execution_count": null,
   "source": "",
   "id": "54267bc652f19071"
  },
  {
   "metadata": {
    "ExecuteTime": {
     "end_time": "2024-11-01T14:08:46.453437Z",
     "start_time": "2024-11-01T14:08:46.329915Z"
    }
   },
   "cell_type": "code",
   "source": [
    "source_img = Image.open(\"test_diff.png\").convert(\"RGB\")\n",
    "draw = ImageDraw.Draw(source_img)\n",
    "cnts, _ = cv2.findContours(diff, cv2.RETR_TREE, cv2.CHAIN_APPROX_NONE)\n",
    "for cnt in cnts:\n",
    "    top_x, top_y = cnt[:, :, 0].min(), cnt[:, :, 1].min()\n",
    "    bot_x, bot_y = cnt[:, :, 0].max(), cnt[:, :, 1].max()\n",
    "    \n",
    "    # One of the bounding boxes is going to be the whole image, we don't need it\n",
    "    # if not (top_x==0 and top_y==0 and bot_x==diff.shape[1]-1 and bot_y==diff.shape[0]-1):\n",
    "    draw.rectangle(((top_x, top_y), (bot_x, bot_y)), outline =\"red\")\n",
    "\n",
    "source_img.save(\"test_diff_with_boxes.png\",\"PNG\")"
   ],
   "id": "d67946195ea703c4",
   "outputs": [],
   "execution_count": 73
  },
  {
   "metadata": {},
   "cell_type": "code",
   "outputs": [],
   "execution_count": null,
   "source": "",
   "id": "414568f0e11d2e83"
  },
  {
   "metadata": {},
   "cell_type": "code",
   "outputs": [],
   "execution_count": null,
   "source": "",
   "id": "273eb0c25d619a06"
  },
  {
   "metadata": {},
   "cell_type": "code",
   "outputs": [],
   "execution_count": null,
   "source": "",
   "id": "8d13d9cc94c556a4"
  },
  {
   "metadata": {},
   "cell_type": "code",
   "outputs": [],
   "execution_count": null,
   "source": "",
   "id": "5345ee1eba2d8d45"
  },
  {
   "metadata": {},
   "cell_type": "code",
   "outputs": [],
   "execution_count": null,
   "source": "",
   "id": "bbd8907235d97932"
  }
 ],
 "metadata": {
  "kernelspec": {
   "display_name": "Python 3",
   "language": "python",
   "name": "python3"
  },
  "language_info": {
   "codemirror_mode": {
    "name": "ipython",
    "version": 2
   },
   "file_extension": ".py",
   "mimetype": "text/x-python",
   "name": "python",
   "nbconvert_exporter": "python",
   "pygments_lexer": "ipython2",
   "version": "2.7.6"
  }
 },
 "nbformat": 4,
 "nbformat_minor": 5
}
