{
 "cells": [
  {
   "metadata": {},
   "cell_type": "markdown",
   "source": "## https://github.com/argosopentech/argos-translate",
   "id": "51912dc2c972efd0"
  },
  {
   "metadata": {
    "collapsed": true,
    "ExecuteTime": {
     "end_time": "2024-11-02T17:40:14.873427Z",
     "start_time": "2024-11-02T17:40:14.870927Z"
    }
   },
   "cell_type": "code",
   "source": [
    "import argostranslate.package\n",
    "import argostranslate.translate"
   ],
   "id": "initial_id",
   "outputs": [],
   "execution_count": 3
  },
  {
   "metadata": {
    "ExecuteTime": {
     "end_time": "2024-11-02T17:53:53.627075Z",
     "start_time": "2024-11-02T17:53:53.029562Z"
    }
   },
   "cell_type": "code",
   "source": [
    "from_code = \"en\"\n",
    "to_code = \"fr\"\n",
    "\n",
    "# Download and install Argos Translate package\n",
    "argostranslate.package.update_package_index()\n",
    "available_packages = argostranslate.package.get_available_packages()\n",
    "package_to_install = next(filter(lambda x: x.from_code == from_code and x.to_code == to_code, available_packages))\n",
    "argostranslate.package.install_from_path(package_to_install.download())\n",
    "\n",
    "# Translate\n",
    "translatedText = argostranslate.translate.translate(\"Hello World\", from_code, to_code)\n",
    "print(translatedText)\n",
    "# 'Bonjour Monde'"
   ],
   "id": "526d2ec1b96fe020",
   "outputs": [
    {
     "name": "stdout",
     "output_type": "stream",
     "text": [
      "Bonjour Monde\n"
     ]
    }
   ],
   "execution_count": 6
  },
  {
   "metadata": {
    "ExecuteTime": {
     "end_time": "2024-11-02T18:23:02.461583Z",
     "start_time": "2024-11-02T18:23:02.459582Z"
    }
   },
   "cell_type": "code",
   "source": "",
   "id": "2a03a37773896892",
   "outputs": [],
   "execution_count": null
  },
  {
   "metadata": {
    "ExecuteTime": {
     "end_time": "2024-11-02T17:54:26.781753Z",
     "start_time": "2024-11-02T17:54:26.746748Z"
    }
   },
   "cell_type": "code",
   "source": [
    "# Translate\n",
    "translatedText = argostranslate.translate.translate(\"Hello\", from_code, to_code)\n",
    "print(translatedText)"
   ],
   "id": "a5ddc15aa8f12b00",
   "outputs": [
    {
     "name": "stdout",
     "output_type": "stream",
     "text": [
      "Bonjour monde\n"
     ]
    }
   ],
   "execution_count": 13
  },
  {
   "metadata": {},
   "cell_type": "code",
   "outputs": [],
   "execution_count": null,
   "source": "",
   "id": "bfe513228de0923d"
  },
  {
   "metadata": {},
   "cell_type": "code",
   "outputs": [],
   "execution_count": null,
   "source": "",
   "id": "fcd110c1a7d9b3c4"
  },
  {
   "metadata": {},
   "cell_type": "code",
   "outputs": [],
   "execution_count": null,
   "source": "",
   "id": "d38f9fda97223ed9"
  },
  {
   "metadata": {},
   "cell_type": "code",
   "outputs": [],
   "execution_count": null,
   "source": "",
   "id": "a2e200e81ab3663"
  },
  {
   "metadata": {},
   "cell_type": "code",
   "outputs": [],
   "execution_count": null,
   "source": "",
   "id": "a19f091927192732"
  },
  {
   "metadata": {},
   "cell_type": "code",
   "outputs": [],
   "execution_count": null,
   "source": "",
   "id": "57d56efa4cbee03a"
  },
  {
   "metadata": {},
   "cell_type": "code",
   "outputs": [],
   "execution_count": null,
   "source": "",
   "id": "f10b692ddff74641"
  },
  {
   "metadata": {},
   "cell_type": "code",
   "outputs": [],
   "execution_count": null,
   "source": "",
   "id": "9e40482a48694a10"
  },
  {
   "metadata": {},
   "cell_type": "code",
   "outputs": [],
   "execution_count": null,
   "source": "",
   "id": "de95ff327367d15e"
  }
 ],
 "metadata": {
  "kernelspec": {
   "display_name": "Python 3",
   "language": "python",
   "name": "python3"
  },
  "language_info": {
   "codemirror_mode": {
    "name": "ipython",
    "version": 2
   },
   "file_extension": ".py",
   "mimetype": "text/x-python",
   "name": "python",
   "nbconvert_exporter": "python",
   "pygments_lexer": "ipython2",
   "version": "2.7.6"
  }
 },
 "nbformat": 4,
 "nbformat_minor": 5
}
