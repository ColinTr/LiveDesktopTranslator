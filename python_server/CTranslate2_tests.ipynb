{
 "cells": [
  {
   "metadata": {},
   "cell_type": "markdown",
   "source": "## https://opennmt.net/CTranslate2/index.html",
   "id": "42c0aad413c97695"
  },
  {
   "metadata": {},
   "cell_type": "markdown",
   "source": "## 1. Install the Python packages",
   "id": "2b7a59eceed21025"
  },
  {
   "metadata": {
    "ExecuteTime": {
     "end_time": "2024-11-02T17:30:48.919873300Z",
     "start_time": "2024-11-02T17:28:56.154759Z"
    }
   },
   "cell_type": "code",
   "source": "!pip install ctranslate2 OpenNMT-py==2.* sentencepiece",
   "id": "3dc6cf117ba94ee1",
   "outputs": [],
   "execution_count": null
  },
  {
   "metadata": {},
   "cell_type": "markdown",
   "source": "## 2. Download the English-French Transformer model trained with OpenNMT-py",
   "id": "5fd54789471c4945"
  },
  {
   "metadata": {
    "ExecuteTime": {
     "end_time": "2024-11-02T17:30:53.192021Z",
     "start_time": "2024-11-02T17:30:53.144604Z"
    }
   },
   "cell_type": "code",
   "source": [
    "!wget https://s3.amazonaws.com/opennmt-models/transformer-ende-wmt-pyOnmt.tar.gz\n",
    "!tar xf transformer-ende-wmt-pyOnmt.tar.gz"
   ],
   "id": "b35c0021c7aff6bf",
   "outputs": [
    {
     "name": "stderr",
     "output_type": "stream",
     "text": [
      "'wget' n'est pas reconnu en tant que commande interne\n",
      "ou externe, un programme ex‚cutable ou un fichier de commandes.\n",
      "tar: Error opening archive: Failed to open 'transformer-ende-wmt-pyOnmt.tar.gz'\n"
     ]
    }
   ],
   "execution_count": 1
  },
  {
   "metadata": {},
   "cell_type": "markdown",
   "source": "## 3. Convert the model to the CTranslate2 format",
   "id": "173a3aa1979a1aff"
  },
  {
   "metadata": {
    "collapsed": true,
    "ExecuteTime": {
     "end_time": "2024-11-02T17:30:48.919873300Z",
     "start_time": "2024-11-02T17:28:56.186265Z"
    }
   },
   "cell_type": "code",
   "source": "!ct2-opennmt-py-converter --model_path averaged-10-epoch.pt --output_dir ende_ctranslate2",
   "id": "initial_id",
   "outputs": [],
   "execution_count": 1
  },
  {
   "metadata": {},
   "cell_type": "markdown",
   "source": "## 4. Translate texts with the Python API",
   "id": "542e97a7332f4d8c"
  },
  {
   "metadata": {},
   "cell_type": "code",
   "outputs": [],
   "execution_count": null,
   "source": [
    "import ctranslate2\n",
    "import sentencepiece as spm\n",
    "\n",
    "translator = ctranslate2.Translator(\"ende_ctranslate2/\", device=\"cpu\")\n",
    "sp = spm.SentencePieceProcessor(\"sentencepiece.model\")\n",
    "\n",
    "input_text = \"Hello world!\"\n",
    "input_tokens = sp.encode(input_text, out_type=str)\n",
    "\n",
    "results = translator.translate_batch([input_tokens])\n",
    "\n",
    "output_tokens = results[0].hypotheses[0]\n",
    "output_text = sp.decode(output_tokens)\n",
    "\n",
    "print(output_text)"
   ],
   "id": "86f737099816873"
  },
  {
   "metadata": {},
   "cell_type": "code",
   "outputs": [],
   "execution_count": null,
   "source": "",
   "id": "289894b4c47b13b6"
  },
  {
   "metadata": {},
   "cell_type": "code",
   "outputs": [],
   "execution_count": null,
   "source": "",
   "id": "dfc38cc208d82b53"
  },
  {
   "metadata": {},
   "cell_type": "code",
   "outputs": [],
   "execution_count": null,
   "source": "",
   "id": "ca5271e1eb4b15f6"
  },
  {
   "metadata": {},
   "cell_type": "code",
   "outputs": [],
   "execution_count": null,
   "source": "",
   "id": "fff3270bd9863d36"
  },
  {
   "metadata": {},
   "cell_type": "code",
   "outputs": [],
   "execution_count": null,
   "source": "",
   "id": "97d780c4b111ea6f"
  },
  {
   "metadata": {},
   "cell_type": "code",
   "outputs": [],
   "execution_count": null,
   "source": "",
   "id": "a7770cebdc4d7f5e"
  },
  {
   "metadata": {},
   "cell_type": "code",
   "outputs": [],
   "execution_count": null,
   "source": "",
   "id": "3cdc5be3e07f4ee"
  },
  {
   "metadata": {},
   "cell_type": "code",
   "outputs": [],
   "execution_count": null,
   "source": "",
   "id": "1d84043be263d4d8"
  },
  {
   "metadata": {},
   "cell_type": "code",
   "outputs": [],
   "execution_count": null,
   "source": "",
   "id": "2d0cd780ad14824c"
  },
  {
   "metadata": {},
   "cell_type": "code",
   "outputs": [],
   "execution_count": null,
   "source": "",
   "id": "47376a3bedc8896a"
  },
  {
   "metadata": {},
   "cell_type": "code",
   "outputs": [],
   "execution_count": null,
   "source": "",
   "id": "99b3267f05027e54"
  }
 ],
 "metadata": {
  "kernelspec": {
   "display_name": "Python 3",
   "language": "python",
   "name": "python3"
  },
  "language_info": {
   "codemirror_mode": {
    "name": "ipython",
    "version": 2
   },
   "file_extension": ".py",
   "mimetype": "text/x-python",
   "name": "python",
   "nbconvert_exporter": "python",
   "pygments_lexer": "ipython2",
   "version": "2.7.6"
  }
 },
 "nbformat": 4,
 "nbformat_minor": 5
}
